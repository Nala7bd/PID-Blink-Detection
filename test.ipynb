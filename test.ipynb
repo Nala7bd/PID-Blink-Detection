{
 "cells": [
  {
   "cell_type": "code",
   "execution_count": 50,
   "metadata": {},
   "outputs": [],
   "source": [
    "import numpy as np\n",
    "import cv2 as cv\n",
    "from matplotlib import pyplot as plt"
   ]
  },
  {
   "cell_type": "code",
   "execution_count": null,
   "metadata": {},
   "outputs": [],
   "source": []
  },
  {
   "cell_type": "code",
   "execution_count": 72,
   "metadata": {},
   "outputs": [],
   "source": [
    "#Cargamos la imagen con la que haremos pruebas\n",
    "img= cv.imread(\"img/ABD_dataset/ABD/without_glasses/01/0_open_0.jpg\")\n",
    "img_prueba=img.copy()"
   ]
  },
  {
   "cell_type": "code",
   "execution_count": 73,
   "metadata": {},
   "outputs": [],
   "source": [
    "#Cargamos el clasificador de caras preeentrenado de opencv:\n",
    "\n",
    "\n",
    "faceClassifier= cv.CascadeClassifier('data/haarcascade_frontalface_default.xml')"
   ]
  },
  {
   "cell_type": "markdown",
   "metadata": {},
   "source": [
    "### Métodos:"
   ]
  },
  {
   "cell_type": "code",
   "execution_count": 3,
   "metadata": {},
   "outputs": [],
   "source": [
    "#Función para detectar las caras de una imágen, \n",
    "# -Parámetros de entrada: img= la imagen donde queremos detectar caras.\n",
    "#                         scale= valor del factor escala utilizado por el CascadeClassifier. Su valor por defecto es el 1.1\n",
    "#                         neighbors= nº de vecinos mínimos que utilizará el CascadeClassifier. Su valor por defecto es 5.\n",
    "#                         minSize  = Tamaño mínimo que tendra la zona que consideraremos cara\n",
    "#                         maxSize  = Tamaño máximo que tendra la zona que consideraremos cara\n",
    "#\n",
    "# -Parámetros de salida: face= imagen únicamente formada por la cara detectada.\n",
    "#                        image= imagen sobre la que detectamos la cara, con la región de la cara marcada con un rectángulo.\n",
    "def detectFaces(img,scale=1.1,neighbors=5,minSize=(30,30),maxSize=(250,250)):\n",
    "    \n",
    "    image=img.copy()\n",
    "    \n",
    "    faces_locations = faceClassifier.detectMultiScale(image,scaleFactor=scale,minNeighbors=neighbors,minSize=minSize,maxSize=maxSize)\n",
    "    \n",
    "    for x,y,w,h in faces_locations:\n",
    "        \n",
    "        ##IMPORTANTE: para cv.rectangle las coordenadas son x,y ; para hacer slicing con numpy las coordenadas son y,x.\n",
    "        cv.rectangle(image,(x,y),(x+w,y+h),(255,0,0),2)\n",
    "        \n",
    "        face=img[y:y+h,x:x+w,:]     \n",
    "\n",
    "    return face,image"
   ]
  },
  {
   "cell_type": "code",
   "execution_count": 74,
   "metadata": {},
   "outputs": [],
   "source": [
    "img_face,img_rectangle= detectFaces(img_prueba)\n",
    "cv.imshow(\"image_face\",img_face)\n",
    "cv.imshow(\"img_rectangle\",img_rectangle)\n",
    "cv.waitKey(0)\n",
    "cv.destroyAllWindows()"
   ]
  },
  {
   "cell_type": "markdown",
   "metadata": {},
   "source": [
    "### Pruebas:\n",
    "\n",
    "1. Estracción de cara:   (https://github.com/opencv/opencv/blob/master/data/haarcascades/haarcascade_frontalface_default.xml)"
   ]
  },
  {
   "cell_type": "code",
   "execution_count": 52,
   "metadata": {},
   "outputs": [],
   "source": [
    "#Cargamos el clasificador de caras preeentrenado de opencv:\n",
    "\n",
    "\n",
    "faceClassifier= cv.CascadeClassifier('data/haarcascade_frontalface_default.xml')"
   ]
  },
  {
   "cell_type": "code",
   "execution_count": 53,
   "metadata": {},
   "outputs": [],
   "source": [
    "faces=faceClassifier.detectMultiScale(img,scaleFactor=1.1,minNeighbors=5,minSize=(30,30))"
   ]
  },
  {
   "cell_type": "code",
   "execution_count": 54,
   "metadata": {},
   "outputs": [
    {
     "data": {
      "text/plain": [
       "array([[204,  78, 238, 238]], dtype=int32)"
      ]
     },
     "execution_count": 54,
     "metadata": {},
     "output_type": "execute_result"
    }
   ],
   "source": [
    "faces  #Array con coordenada_x, coordenada_y, ancho, alto"
   ]
  },
  {
   "cell_type": "code",
   "execution_count": null,
   "metadata": {},
   "outputs": [],
   "source": []
  },
  {
   "cell_type": "code",
   "execution_count": 8,
   "metadata": {},
   "outputs": [],
   "source": [
    "for x,y,w,h in faces:\n",
    "    cv.rectangle(img,(x,y),(x+w,y+h),(255,0,0),2)"
   ]
  },
  {
   "cell_type": "code",
   "execution_count": 9,
   "metadata": {},
   "outputs": [],
   "source": [
    "cv.imshow(\"image\",img)\n",
    "cv.waitKey(0)\n",
    "cv.destroyAllWindows()"
   ]
  },
  {
   "cell_type": "code",
   "execution_count": 68,
   "metadata": {},
   "outputs": [],
   "source": []
  },
  {
   "cell_type": "code",
   "execution_count": 69,
   "metadata": {},
   "outputs": [],
   "source": [
    "img_face,img_rectangle= detectFaces(img)"
   ]
  },
  {
   "cell_type": "code",
   "execution_count": 70,
   "metadata": {},
   "outputs": [
    {
     "data": {
      "text/plain": [
       "(219, 219, 3)"
      ]
     },
     "execution_count": 70,
     "metadata": {},
     "output_type": "execute_result"
    }
   ],
   "source": [
    "img_face.shape"
   ]
  },
  {
   "cell_type": "code",
   "execution_count": 71,
   "metadata": {},
   "outputs": [],
   "source": [
    "cv.imshow(\"image\",img_face)\n",
    "cv.waitKey(0)\n",
    "cv.destroyAllWindows()"
   ]
  },
  {
   "cell_type": "code",
   "execution_count": null,
   "metadata": {},
   "outputs": [],
   "source": []
  },
  {
   "cell_type": "code",
   "execution_count": null,
   "metadata": {},
   "outputs": [],
   "source": []
  },
  {
   "cell_type": "code",
   "execution_count": null,
   "metadata": {},
   "outputs": [],
   "source": []
  },
  {
   "cell_type": "code",
   "execution_count": null,
   "metadata": {},
   "outputs": [],
   "source": []
  },
  {
   "cell_type": "code",
   "execution_count": null,
   "metadata": {},
   "outputs": [],
   "source": []
  }
 ],
 "metadata": {
  "kernelspec": {
   "display_name": "Python 3",
   "language": "python",
   "name": "python3"
  },
  "language_info": {
   "codemirror_mode": {
    "name": "ipython",
    "version": 3
   },
   "file_extension": ".py",
   "mimetype": "text/x-python",
   "name": "python",
   "nbconvert_exporter": "python",
   "pygments_lexer": "ipython3",
   "version": "3.6.5"
  }
 },
 "nbformat": 4,
 "nbformat_minor": 2
}
