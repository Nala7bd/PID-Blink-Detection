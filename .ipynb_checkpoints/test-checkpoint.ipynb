{
 "cells": [
  {
   "cell_type": "code",
   "execution_count": 50,
   "metadata": {},
   "outputs": [],
   "source": [
    "import numpy as np\n",
    "import cv2 as cv\n",
    "from matplotlib import pyplot as plt"
   ]
  },
  {
   "cell_type": "code",
   "execution_count": null,
   "metadata": {},
   "outputs": [],
   "source": []
  },
  {
   "cell_type": "code",
   "execution_count": 101,
   "metadata": {},
   "outputs": [],
   "source": [
    "#Cargamos la imagen con la que haremos pruebas\n",
    "#img= cv.imread(\"img/ABD_dataset/ABD/without_glasses/01/0_open_0.jpg\")\n",
    "img= cv.imread(\"img/img_webcam.jpeg\")\n",
    "img_prueba=img.copy()"
   ]
  },
  {
   "cell_type": "code",
   "execution_count": 102,
   "metadata": {},
   "outputs": [],
   "source": [
    "#Cargamos el clasificador de caras preeentrenado de opencv:\n",
    "\n",
    "\n",
    "faceClassifier= cv.CascadeClassifier('data/haarcascade_frontalface_default.xml')"
   ]
  },
  {
   "cell_type": "markdown",
   "metadata": {},
   "source": [
    "### Métodos:\n",
    "\n",
    "* Preprocesado pre región de la cara:  (suavizado a cada canal rgb + ecualización del histograma al canal Y del formato YCrCb\n",
    "\n",
    "\n",
    "\n",
    "NOTA: SE HA PROBADO A ECUALIZAR EL CANAL LIGHT DE HLS, CANAL VALUE DE HSV, CANAL Y DE YCrCb"
   ]
  },
  {
   "cell_type": "code",
   "execution_count": 103,
   "metadata": {},
   "outputs": [],
   "source": [
    "#Función para aplicar un filtro de mediana a cada canal rgb, con el objetivo de eliminar el ruido\n",
    "# -Parámetros de entrada: img= la imagen donde queremos detectar caras.\n",
    "#                         k = tamaño de la máscara mediana que se va aplicar a cada canal k*k. k tiene que ser impar. \n",
    "#                             Por defecto k=3\n",
    "# -Parámetros de salida: \n",
    "#                         imágen resultante de aplicar los filtros en cada canal rgb\n",
    "#\n",
    "def rgbSmoothing(img,k=3):\n",
    "    \n",
    "    b,g,r=cv.split(img)\n",
    "    \n",
    "    b= cv.medianBlur(b,k)\n",
    "    g= cv.medianBlur(g,k)\n",
    "    r= cv.medianBlur(r,k)\n",
    "\n",
    "    return cv.merge([b,g,r])"
   ]
  },
  {
   "cell_type": "code",
   "execution_count": 104,
   "metadata": {},
   "outputs": [],
   "source": [
    "#Función para aplicar una ecualización del histograma al canal y YCrCb de la imágen\n",
    "# -Parámetros de entrada: img= la imagen a la que queremos ajustar la iluminación\n",
    "#                         histogram = variable Booleana que indica si quieres mostrar por pantalla los histogramas pre y post \n",
    "#                                     ecualización.\n",
    "# -Parámetros de salida: \n",
    "#                         imágen resultante de aplicar la ecualización sobre el canal Y\n",
    "#\n",
    "def lightnessEqualization(img,histogram=False):\n",
    "    \n",
    "    y,cr,cb=cv.split(cv.cvtColor(img,cv.COLOR_BGR2YCR_CB))\n",
    "    \n",
    "    y_= cv.equalizeHist(y)\n",
    "    \n",
    "    \n",
    "    \n",
    "    if histogram:\n",
    "        plt.figure(1)\n",
    "        plt.title('Lightness Histogram')\n",
    "        plt.hist(y.ravel(),255,[0,255])\n",
    "        plt.show()\n",
    "        plt.figure(2)\n",
    "        plt.title('Equalized Lightness Histogram')\n",
    "        plt.hist(y_.ravel(),255,[0,255])\n",
    "        plt.show()\n",
    "        \n",
    "    return cv.cvtColor(cv.merge([y_,cr,cb]), cv.COLOR_YCR_CB2BGR)\n",
    "    "
   ]
  },
  {
   "cell_type": "code",
   "execution_count": 107,
   "metadata": {},
   "outputs": [
    {
     "data": {
      "image/png": "[encoded data removed]",
      "text/plain": [
       "<Figure size 432x288 with 1 Axes>"
      ]
     },
     "metadata": {},
     "output_type": "display_data"
    },
    {
     "data": {
      "image/png": "[encoded data removed]",
      "text/plain": [
       "<Figure size 432x288 with 1 Axes>"
      ]
     },
     "metadata": {},
     "output_type": "display_data"
    }
   ],
   "source": [
    "img_smooth = rgbSmoothing(img_prueba,k=5)\n",
    "img_equalized= lightnessEqualization(img_smooth,histogram=True)\n",
    "\n",
    "cv.imshow(\"img_prueba\",img_prueba)\n",
    "cv.imshow(\"img_smooth\",img_smooth)\n",
    "cv.imshow(\"img_equalized\",img_equalized)\n",
    "cv.waitKey(0)\n",
    "cv.destroyAllWindows()"
   ]
  },
  {
   "cell_type": "code",
   "execution_count": null,
   "metadata": {},
   "outputs": [],
   "source": []
  },
  {
   "cell_type": "markdown",
   "metadata": {},
   "source": [
    "\n",
    "\n",
    "* Detección de la región de la cara:"
   ]
  },
  {
   "cell_type": "code",
   "execution_count": 108,
   "metadata": {},
   "outputs": [],
   "source": [
    "#Función para detectar las caras de una imágen, \n",
    "# -Parámetros de entrada: img= la imagen donde queremos detectar caras.\n",
    "#                         scale= valor del factor escala utilizado por el CascadeClassifier. Su valor por defecto es el 1.1\n",
    "#                         neighbors= nº de vecinos mínimos que utilizará el CascadeClassifier. Su valor por defecto es 5.\n",
    "#                         minSize  = Tamaño mínimo que tendra la zona que consideraremos cara\n",
    "#                         maxSize  = Tamaño máximo que tendra la zona que consideraremos cara\n",
    "#\n",
    "# -Parámetros de salida: face= imagen únicamente formada por la cara detectada.\n",
    "#                        image= imagen sobre la que detectamos la cara, con la región de la cara marcada con un rectángulo.\n",
    "def detectFaces(img,scale=1.1,neighbors=5,minSize=(30,30),maxSize=(250,250)):\n",
    "    \n",
    "    image=img.copy()\n",
    "    \n",
    "    faces_locations = faceClassifier.detectMultiScale(image,scaleFactor=scale,minNeighbors=neighbors,minSize=minSize,maxSize=maxSize)\n",
    "    \n",
    "    for x,y,w,h in faces_locations:\n",
    "        \n",
    "        ##IMPORTANTE: para cv.rectangle las coordenadas son x,y ; para hacer slicing con numpy las coordenadas son y,x.\n",
    "        cv.rectangle(image,(x,y),(x+w,y+h),(255,0,0),2)\n",
    "        \n",
    "        face=img[y:y+h,x:x+w,:]     \n",
    "\n",
    "    return face,image"
   ]
  },
  {
   "cell_type": "code",
   "execution_count": 109,
   "metadata": {},
   "outputs": [],
   "source": [
    "img_face,img_rectangle= detectFaces(img_equalized)\n",
    "cv.imshow(\"image_face\",img_face)\n",
    "cv.imshow(\"img_rectangle\",img_rectangle)\n",
    "cv.waitKey(0)\n",
    "cv.destroyAllWindows()"
   ]
  },
  {
   "cell_type": "markdown",
   "metadata": {},
   "source": [
    "2. Preprocesado para detectar la región de los ojos:"
   ]
  },
  {
   "cell_type": "code",
   "execution_count": null,
   "metadata": {},
   "outputs": [],
   "source": []
  },
  {
   "cell_type": "markdown",
   "metadata": {},
   "source": [
    "### Pruebas:\n",
    "\n",
    "1. Estracción de cara:   (https://github.com/opencv/opencv/blob/master/data/haarcascades/haarcascade_frontalface_default.xml)"
   ]
  },
  {
   "cell_type": "code",
   "execution_count": 52,
   "metadata": {},
   "outputs": [],
   "source": [
    "#Cargamos el clasificador de caras preeentrenado de opencv:\n",
    "\n",
    "\n",
    "faceClassifier= cv.CascadeClassifier('data/haarcascade_frontalface_default.xml')"
   ]
  },
  {
   "cell_type": "code",
   "execution_count": 53,
   "metadata": {},
   "outputs": [],
   "source": [
    "faces=faceClassifier.detectMultiScale(img,scaleFactor=1.1,minNeighbors=5,minSize=(30,30))"
   ]
  },
  {
   "cell_type": "code",
   "execution_count": 54,
   "metadata": {},
   "outputs": [
    {
     "data": {
      "text/plain": [
       "array([[204,  78, 238, 238]], dtype=int32)"
      ]
     },
     "execution_count": 54,
     "metadata": {},
     "output_type": "execute_result"
    }
   ],
   "source": [
    "faces  #Array con coordenada_x, coordenada_y, ancho, alto"
   ]
  },
  {
   "cell_type": "code",
   "execution_count": null,
   "metadata": {},
   "outputs": [],
   "source": []
  },
  {
   "cell_type": "code",
   "execution_count": 8,
   "metadata": {},
   "outputs": [],
   "source": [
    "for x,y,w,h in faces:\n",
    "    cv.rectangle(img,(x,y),(x+w,y+h),(255,0,0),2)"
   ]
  },
  {
   "cell_type": "code",
   "execution_count": 9,
   "metadata": {},
   "outputs": [],
   "source": [
    "cv.imshow(\"image\",img)\n",
    "cv.waitKey(0)\n",
    "cv.destroyAllWindows()"
   ]
  },
  {
   "cell_type": "code",
   "execution_count": 68,
   "metadata": {},
   "outputs": [],
   "source": []
  },
  {
   "cell_type": "code",
   "execution_count": 69,
   "metadata": {},
   "outputs": [],
   "source": [
    "img_face,img_rectangle= detectFaces(img)"
   ]
  },
  {
   "cell_type": "code",
   "execution_count": 70,
   "metadata": {},
   "outputs": [
    {
     "data": {
      "text/plain": [
       "(219, 219, 3)"
      ]
     },
     "execution_count": 70,
     "metadata": {},
     "output_type": "execute_result"
    }
   ],
   "source": [
    "img_face.shape"
   ]
  },
  {
   "cell_type": "code",
   "execution_count": 71,
   "metadata": {},
   "outputs": [],
   "source": [
    "cv.imshow(\"image\",img_face)\n",
    "cv.waitKey(0)\n",
    "cv.destroyAllWindows()"
   ]
  },
  {
   "cell_type": "code",
   "execution_count": null,
   "metadata": {},
   "outputs": [],
   "source": []
  },
  {
   "cell_type": "code",
   "execution_count": null,
   "metadata": {},
   "outputs": [],
   "source": []
  },
  {
   "cell_type": "code",
   "execution_count": null,
   "metadata": {},
   "outputs": [],
   "source": []
  },
  {
   "cell_type": "code",
   "execution_count": null,
   "metadata": {},
   "outputs": [],
   "source": []
  },
  {
   "cell_type": "code",
   "execution_count": null,
   "metadata": {},
   "outputs": [],
   "source": []
  }
 ],
 "metadata": {
  "kernelspec": {
   "display_name": "Python 3",
   "language": "python",
   "name": "python3"
  },
  "language_info": {
   "codemirror_mode": {
    "name": "ipython",
    "version": 3
   },
   "file_extension": ".py",
   "mimetype": "text/x-python",
   "name": "python",
   "nbconvert_exporter": "python",
   "pygments_lexer": "ipython3",
   "version": "3.6.5"
  }
 },
 "nbformat": 4,
 "nbformat_minor": 2
}
